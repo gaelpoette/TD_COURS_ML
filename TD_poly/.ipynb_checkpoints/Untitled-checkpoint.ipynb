{
 "cells": [
  {
   "cell_type": "markdown",
   "id": "351015f3",
   "metadata": {},
   "source": [
    "# Test d'optimiseurs sur un benchmark analytique"
   ]
  },
  {
   "cell_type": "code",
   "execution_count": 2,
   "id": "ac6c14a4",
   "metadata": {},
   "outputs": [
    {
     "name": "stderr",
     "output_type": "stream",
     "text": [
      "2024-08-10 14:39:40.246792: I tensorflow/core/util/port.cc:110] oneDNN custom operations are on. You may see slightly different numerical results due to floating-point round-off errors from different computation orders. To turn them off, set the environment variable `TF_ENABLE_ONEDNN_OPTS=0`.\n",
      "2024-08-10 14:39:40.248097: I tensorflow/tsl/cuda/cudart_stub.cc:28] Could not find cuda drivers on your machine, GPU will not be used.\n",
      "2024-08-10 14:39:40.272184: I tensorflow/tsl/cuda/cudart_stub.cc:28] Could not find cuda drivers on your machine, GPU will not be used.\n",
      "2024-08-10 14:39:40.273120: I tensorflow/core/platform/cpu_feature_guard.cc:182] This TensorFlow binary is optimized to use available CPU instructions in performance-critical operations.\n",
      "To enable the following instructions: AVX2 AVX_VNNI FMA, in other operations, rebuild TensorFlow with the appropriate compiler flags.\n",
      "2024-08-10 14:39:40.728794: W tensorflow/compiler/tf2tensorrt/utils/py_utils.cc:38] TF-TRT Warning: Could not find TensorRT\n"
     ]
    }
   ],
   "source": [
    "from keras import optimizers\n",
    "from keras import losses\n",
    "\n",
    "import tensorflow as tf\n",
    "tf.keras.backend.set_floatx('float64')\n",
    "import os\n",
    "#os.chdir(\"/home/bbensaid/Documents/Anabase/NN_shaman\") \n",
    "\n",
    "import activations_perso\n",
    "from model import build_poly\n",
    "from training import train\n",
    "import read"
   ]
  },
  {
   "cell_type": "code",
   "execution_count": 3,
   "id": "61c474fb",
   "metadata": {},
   "outputs": [],
   "source": [
    "batch_size=2\n",
    "x_train,y_train = read.poly_data()\n",
    "train_dataset = tf.data.Dataset.from_tensor_slices((x_train, y_train))\n",
    "train_dataset = train_dataset.shuffle(buffer_size=batch_size).batch(batch_size)\n"
   ]
  },
  {
   "cell_type": "code",
   "execution_count": 4,
   "id": "1df0e00e",
   "metadata": {},
   "outputs": [],
   "source": [
    "# polyFive\n",
    "activation=activations_perso.polyFive\n",
    "loss = losses.MeanSquaredError()\n"
   ]
  },
  {
   "cell_type": "code",
   "execution_count": 5,
   "id": "ed899b28",
   "metadata": {},
   "outputs": [],
   "source": [
    "name_init=\"Uniform\"\n",
    "w=-2; b=2\n",
    "params_init=[w,w,b,b]\n",
    "seed=0\n",
    "\n",
    "#paramètres d'arrêt\n",
    "eps=10**(-6); max_epochs=30000\n",
    "\n",
    "#paramètres d'entrainement \n",
    "lr=0.1\n",
    "seuil=0.01\n",
    "f1=30; f2=10000; lambd=0.5; rho=0.9; eps_egd=0.01\n",
    "beta_1=0.9; beta_2=0.999; epsilon=1e-07\n",
    "amsgrad=False\n",
    "\n",
    "algo=\"LC_EGD\"\n"
   ]
  },
  {
   "cell_type": "code",
   "execution_count": 6,
   "id": "f8b1adee",
   "metadata": {},
   "outputs": [],
   "source": [
    "model = build_poly(activation,loss,name_init,params_init,seed); model_copy = build_poly(activation,loss,name_init,params_init,seed)\n"
   ]
  },
  {
   "cell_type": "code",
   "execution_count": 8,
   "id": "2d331ac9",
   "metadata": {},
   "outputs": [
    {
     "name": "stdout",
     "output_type": "stream",
     "text": [
      "cost_init:  tf.Tensor(2.3070516783338114e-10, shape=(), dtype=float64)\n",
      "[array([[-0.00136755]]), array([-0.99926705])]\n",
      "temps:  0.003946065902709961\n"
     ]
    }
   ],
   "source": [
    "model, epoch, norme_grad, cost, temps = train(algo,model,model_copy,loss,x_train,y_train,eps,max_epochs,lr,seuil,f1,f2,rho,eps_egd,lambd,beta_1,beta_2,epsilon,amsgrad)\n",
    "print(model.get_weights())\n",
    "print(\"temps: \", temps)\n"
   ]
  },
  {
   "cell_type": "code",
   "execution_count": null,
   "id": "5e3e8106",
   "metadata": {},
   "outputs": [],
   "source": []
  }
 ],
 "metadata": {
  "kernelspec": {
   "display_name": "Python 3 (ipykernel)",
   "language": "python",
   "name": "python3"
  },
  "language_info": {
   "codemirror_mode": {
    "name": "ipython",
    "version": 3
   },
   "file_extension": ".py",
   "mimetype": "text/x-python",
   "name": "python",
   "nbconvert_exporter": "python",
   "pygments_lexer": "ipython3",
   "version": "3.10.12"
  }
 },
 "nbformat": 4,
 "nbformat_minor": 5
}
